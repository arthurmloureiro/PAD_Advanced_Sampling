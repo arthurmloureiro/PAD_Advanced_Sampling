{
 "cells": [
  {
   "cell_type": "markdown",
   "metadata": {},
   "source": [
    "# Generalizing the Hamiltonian Monte-Carlo sampler.\n",
    "\n",
    "## The objective here is to apply the Hamiltonian Monte-Carlo to a more realistic problem.\n",
    "\n",
    "`Arthur Loureiro - UCL PAD Feb/2019`\n",
    "\n",
    "> Based on http://people.duke.edu/~ccc14/sta-663-2018/notebooks/S10E_HMC.html"
   ]
  },
  {
   "cell_type": "code",
   "execution_count": null,
   "metadata": {},
   "outputs": [],
   "source": []
  }
 ],
 "metadata": {
  "kernelspec": {
   "display_name": "Python 3",
   "language": "python",
   "name": "python3"
  },
  "language_info": {
   "codemirror_mode": {
    "name": "ipython",
    "version": 3
   },
   "file_extension": ".py",
   "mimetype": "text/x-python",
   "name": "python",
   "nbconvert_exporter": "python",
   "pygments_lexer": "ipython3",
   "version": "3.6.5"
  }
 },
 "nbformat": 4,
 "nbformat_minor": 2
}
