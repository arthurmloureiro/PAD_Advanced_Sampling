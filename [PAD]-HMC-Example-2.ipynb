{
 "cells": [
  {
   "cell_type": "markdown",
   "metadata": {},
   "source": [
    "# Generalizing the Hamiltonian Monte-Carlo sampler.\n",
    "\n",
    "## The objective here is to apply the Hamiltonian Monte-Carlo to a more realistic problem.\n",
    "\n",
    "`Arthur Loureiro - UCL PAD Feb/2019`\n",
    "\n",
    "> Based on http://people.duke.edu/~ccc14/sta-663-2018/notebooks/S10E_HMC.html"
   ]
  },
  {
   "cell_type": "code",
   "execution_count": 17,
   "metadata": {},
   "outputs": [],
   "source": [
    "%matplotlib inline\n",
    "import matplotlib.pyplot as plt\n",
    "import numpy as np\n",
    "import pylab as plt\n",
    "from functools import partial\n",
    "import seaborn as sns\n",
    "import scipy.linalg as la\n",
    "import matplotlib as mpl\n",
    "\n",
    "mpl.rcParams.update({'font.size': 16})\n",
    "\n",
    "np.random.seed(123)"
   ]
  },
  {
   "cell_type": "markdown",
   "metadata": {},
   "source": [
    "## We start by creating some synthetic data:\n",
    "\n",
    "(based on the [emcee tutorial](https://emcee.readthedocs.io/en/latest/tutorials/line/))"
   ]
  },
  {
   "cell_type": "code",
   "execution_count": 120,
   "metadata": {},
   "outputs": [],
   "source": [
    "# the truth cell:\n",
    "a_true = -0.8\n",
    "b_true = 2.39\n",
    "f_true = 0.50"
   ]
  },
  {
   "cell_type": "code",
   "execution_count": 121,
   "metadata": {},
   "outputs": [
    {
     "data": {
      "text/plain": [
       "<matplotlib.legend.Legend at 0x7f5afae8cd30>"
      ]
     },
     "execution_count": 121,
     "metadata": {},
     "output_type": "execute_result"
    },
    {
     "data": {
      "image/png": "[encoded data removed]",
      "text/plain": [
       "<Figure size 432x288 with 1 Axes>"
      ]
     },
     "metadata": {},
     "output_type": "display_data"
    }
   ],
   "source": [
    "# Generate some synthetic data from the model.\n",
    "N = 30\n",
    "x = np.sort(10*np.random.rand(N))\n",
    "yerr = 0.1+0.5*np.random.rand(N)\n",
    "y = a_true*x+b_true\n",
    "y += np.abs(f_true*y) * np.random.randn(N)\n",
    "#y += np.abs(y) * np.random.randn(N)\n",
    "y += yerr * np.random.randn(N)\n",
    "\n",
    "plt.errorbar(x, y, yerr=yerr, fmt=\".k\", capsize=0,label=\"Data\")\n",
    "x0 = np.linspace(0, 10, 500)\n",
    "plt.plot(x0, a_true*x0+b_true, \"g\", alpha=0.3, lw=3, label=\"Truth\")\n",
    "plt.xlim(0, 10)\n",
    "plt.xlabel(\"x\")\n",
    "plt.ylabel(\"y\")\n",
    "plt.legend(loc=0)"
   ]
  },
  {
   "cell_type": "markdown",
   "metadata": {},
   "source": [
    "# Likelihood:\n",
    "The log-Likelihood can be defined in this case as:\n",
    "\n",
    "#### $\\psi(y|d,\\sigma,a,b,f) = \\ln Pr(y|d,\\sigma,a,b,f) = -\\frac{1}{2}\\sum_i \\left[ \\frac{(y_i - ax_i -b)^2}{\\Sigma_i^2} + \\ln(2\\pi\\Sigma_i^2)\\right]$\n",
    "\n",
    "where, $\\Sigma_i^2 \\equiv \\sigma_i^2 + f^2(ax_i+b)^2$ -- meaning that the variance can be considered to have been underestimated by some fractional amount, $f$."
   ]
  },
  {
   "cell_type": "raw",
   "metadata": {},
   "source": [
    "def log_likelihood(theta, x, y, yerr):\n",
    "    a, b, log_f = theta\n",
    "    model = a * x + b\n",
    "    sigma2 = yerr**2 + model**2*np.exp(2*log_f)\n",
    "    return -0.5*np.sum((y-model)**2/sigma2 + np.log(sigma2))"
   ]
  },
  {
   "cell_type": "code",
   "execution_count": 122,
   "metadata": {},
   "outputs": [],
   "source": [
    "def log_likelihood(theta, x, y, yerr):\n",
    "    a, b = theta\n",
    "    model = a * x + b\n",
    "    sigma2 = yerr**2 #+ model**2*np.exp(2*log_f)\n",
    "    return -0.5*np.sum((y-model)**2/sigma2)# + np.log(sigma2))"
   ]
  },
  {
   "cell_type": "markdown",
   "metadata": {},
   "source": [
    "# Priors:\n",
    "\n",
    "For simplicity, let us consider flat, uniform priors:\n",
    "\n",
    "$\\Pi(a) = \\begin{cases} 1 , & if\\, -5 < a < 1/2 \\\\ 0,& otherwise\\end{cases}$\n",
    "\n",
    "$\\Pi(b) = \\begin{cases} 1 , & if\\, 0 < b < 10 \\\\ 0,& otherwise\\end{cases}$\n",
    "\n",
    "$\\Pi(f) = \\begin{cases} 1 , & if\\, -10 < \\log(f) < 1 \\\\ 0,& otherwise\\end{cases}$"
   ]
  },
  {
   "cell_type": "code",
   "execution_count": 123,
   "metadata": {},
   "outputs": [],
   "source": [
    "def log_prior(theta):\n",
    "    a, b = theta\n",
    "    if -5.0 < a < 0.5 and 0.0 < b < 10.0:# and -10.0 < log_f < 1.0:\n",
    "        return 0.0\n",
    "    return -np.inf"
   ]
  },
  {
   "cell_type": "markdown",
   "metadata": {},
   "source": [
    "## Now, we define the potencial to be the negative log-posterior distribution:"
   ]
  },
  {
   "cell_type": "code",
   "execution_count": 124,
   "metadata": {},
   "outputs": [],
   "source": [
    "def neglog_post(theta, x, y, yerr):\n",
    "    lp = log_prior(theta)\n",
    "    if not np.isfinite(lp):\n",
    "        return -np.inf\n",
    "    return -(lp + log_likelihood(theta, x, y, yerr))"
   ]
  },
  {
   "cell_type": "code",
   "execution_count": 125,
   "metadata": {},
   "outputs": [],
   "source": [
    "def dH(theta0, p0, theta, p, x, y, yerr):\n",
    "    \"\"\"\n",
    "    Hamiltonian of the system\n",
    "    \"\"\"\n",
    "    H0 = neglog_post(theta0, x, y, yerr) + (p0 @ p0)/2\n",
    "    H1 = neglog_post(theta, x, y, yerr) + (p @ p)/2\n",
    "    return (H0 - H1)"
   ]
  },
  {
   "cell_type": "code",
   "execution_count": 185,
   "metadata": {},
   "outputs": [],
   "source": [
    "# using leap-frog to evolve the system\n",
    "def leapfrog(A, x, p, h, N):\n",
    "    \"\"\"Leapfrog finite difference scheme.\"\"\"\n",
    "    p = p - h/2 * A @ x\n",
    "    for i in range(N-1):\n",
    "        x = x + h * p\n",
    "        p = p - h * A @ x\n",
    "\n",
    "    x = x + h * p\n",
    "    p = p - h/2 * A @ x\n",
    "\n",
    "    return x, p"
   ]
  },
  {
   "cell_type": "code",
   "execution_count": 190,
   "metadata": {},
   "outputs": [],
   "source": [
    "# number of samples:\n",
    "niter = 1500\n",
    "\n",
    "# This is a free parameter that controls the acceptance ratio:\n",
    "h = 0.01\n",
    "\n",
    "# Number of steps in the leap-frog integration:\n",
    "N = 100\n",
    "\n",
    "# step size = sigma^-1:\n",
    "#tau = np.matrix([[np.sum(-x**2/yerr),0],[0,np.sum(-1/yerr)]])#,[0,1,0,0], [1,0,0,0]])\n",
    "\n",
    "\n",
    "# inicializing the trajectories:\n",
    "orbit = np.zeros((niter+1, 2))\n",
    "\n",
    "# inicial position:\n",
    "theta = np.array([-1,3])\n",
    "orbit[0] = theta"
   ]
  },
  {
   "cell_type": "code",
   "execution_count": 191,
   "metadata": {},
   "outputs": [
    {
     "ename": "ValueError",
     "evalue": "shapes (2,2) and (1,2) not aligned: 2 (dim 1) != 1 (dim 0)",
     "output_type": "error",
     "traceback": [
      "\u001b[0;31m---------------------------------------------------------------------------\u001b[0m",
      "\u001b[0;31mValueError\u001b[0m                                Traceback (most recent call last)",
      "\u001b[0;32m<ipython-input-191-2cba4e4cc344>\u001b[0m in \u001b[0;36m<module>\u001b[0;34m()\u001b[0m\n\u001b[1;32m      4\u001b[0m \u001b[0;34m\u001b[0m\u001b[0m\n\u001b[1;32m      5\u001b[0m \u001b[0;34m\u001b[0m\u001b[0m\n\u001b[0;32m----> 6\u001b[0;31m     \u001b[0mtheta\u001b[0m\u001b[0;34m,\u001b[0m \u001b[0mp\u001b[0m \u001b[0;34m=\u001b[0m \u001b[0mleapfrog\u001b[0m\u001b[0;34m(\u001b[0m\u001b[0mtau\u001b[0m\u001b[0;34m,\u001b[0m \u001b[0mtheta\u001b[0m\u001b[0;34m,\u001b[0m \u001b[0mp0\u001b[0m\u001b[0;34m,\u001b[0m \u001b[0mh\u001b[0m\u001b[0;34m,\u001b[0m \u001b[0mN\u001b[0m\u001b[0;34m)\u001b[0m\u001b[0;34m\u001b[0m\u001b[0m\n\u001b[0m\u001b[1;32m      7\u001b[0m \u001b[0;34m\u001b[0m\u001b[0m\n\u001b[1;32m      8\u001b[0m     \u001b[0;31m# accept-reject\u001b[0m\u001b[0;34m\u001b[0m\u001b[0;34m\u001b[0m\u001b[0m\n",
      "\u001b[0;32m<ipython-input-185-2b7bcaea8983>\u001b[0m in \u001b[0;36mleapfrog\u001b[0;34m(A, x, p, h, N)\u001b[0m\n\u001b[1;32m      5\u001b[0m     \u001b[0;32mfor\u001b[0m \u001b[0mi\u001b[0m \u001b[0;32min\u001b[0m \u001b[0mrange\u001b[0m\u001b[0;34m(\u001b[0m\u001b[0mN\u001b[0m\u001b[0;34m-\u001b[0m\u001b[0;36m1\u001b[0m\u001b[0;34m)\u001b[0m\u001b[0;34m:\u001b[0m\u001b[0;34m\u001b[0m\u001b[0m\n\u001b[1;32m      6\u001b[0m         \u001b[0mx\u001b[0m \u001b[0;34m=\u001b[0m \u001b[0mx\u001b[0m \u001b[0;34m+\u001b[0m \u001b[0mh\u001b[0m \u001b[0;34m*\u001b[0m \u001b[0mp\u001b[0m\u001b[0;34m\u001b[0m\u001b[0m\n\u001b[0;32m----> 7\u001b[0;31m         \u001b[0mp\u001b[0m \u001b[0;34m=\u001b[0m \u001b[0mp\u001b[0m \u001b[0;34m-\u001b[0m \u001b[0mh\u001b[0m \u001b[0;34m*\u001b[0m \u001b[0mA\u001b[0m \u001b[0;34m@\u001b[0m \u001b[0mx\u001b[0m\u001b[0;34m\u001b[0m\u001b[0m\n\u001b[0m\u001b[1;32m      8\u001b[0m \u001b[0;34m\u001b[0m\u001b[0m\n\u001b[1;32m      9\u001b[0m     \u001b[0mx\u001b[0m \u001b[0;34m=\u001b[0m \u001b[0mx\u001b[0m \u001b[0;34m+\u001b[0m \u001b[0mh\u001b[0m \u001b[0;34m*\u001b[0m \u001b[0mp\u001b[0m\u001b[0;34m\u001b[0m\u001b[0m\n",
      "\u001b[0;31mValueError\u001b[0m: shapes (2,2) and (1,2) not aligned: 2 (dim 1) != 1 (dim 0)"
     ]
    }
   ],
   "source": [
    "for k in range(niter):\n",
    "    # the inicial momenta can be sampled from a normal distr:\n",
    "    p0 = np.random.normal(0,1,2)\n",
    "    \n",
    "    \n",
    "    theta, p = leapfrog(tau, theta, p0, h, N)\n",
    "\n",
    "    # accept-reject\n",
    "    theta0 = orbit[k]\n",
    "    a = np.exp(dH(theta0, p0, theta, -p, x, y, yerr))\n",
    "    r = np.random.rand()\n",
    "\n",
    "    if r < a:\n",
    "        orbit[k+1] = theta\n",
    "        #print('accepted!')\n",
    "    else:\n",
    "        orbit[k+1] = theta0\n",
    "        #print('rejected')\n",
    "        \n",
    "# and plot:\n",
    "sns.kdeplot(orbit[:, 0], orbit[:, 1],shade=True)\n",
    "#sns.kdeplot(y[:,0], ys[:,1])\n",
    "plt.plot(orbit[:,0], orbit[:,1], alpha=0.2)\n",
    "plt.scatter(orbit[:1,0], orbit[:1,1],  c='red', s=30)\n",
    "plt.scatter(orbit[1:,0], orbit[1:,1],  c=np.arange(niter)[::-1], cmap='Reds')\n",
    "#plt.axis([-5.5,1.5,0.1,10])"
   ]
  },
  {
   "cell_type": "code",
   "execution_count": 50,
   "metadata": {},
   "outputs": [
    {
     "data": {
      "text/plain": [
       "(50,)"
      ]
     },
     "execution_count": 50,
     "metadata": {},
     "output_type": "execute_result"
    }
   ],
   "source": [
    "np.shape(yerr)"
   ]
  },
  {
   "cell_type": "code",
   "execution_count": 129,
   "metadata": {},
   "outputs": [
    {
     "data": {
      "text/plain": [
       "array([[-1.        ,  3.        ],\n",
       "       [-0.86341373,  2.81247586],\n",
       "       [-0.86341373,  2.81247586],\n",
       "       ...,\n",
       "       [-0.50412607, -0.08350382],\n",
       "       [-0.50412607, -0.08350382],\n",
       "       [-0.50412607, -0.08350382]])"
      ]
     },
     "execution_count": 129,
     "metadata": {},
     "output_type": "execute_result"
    }
   ],
   "source": [
    "orbit"
   ]
  },
  {
   "cell_type": "code",
   "execution_count": null,
   "metadata": {},
   "outputs": [],
   "source": []
  },
  {
   "cell_type": "code",
   "execution_count": null,
   "metadata": {},
   "outputs": [],
   "source": []
  }
 ],
 "metadata": {
  "kernelspec": {
   "display_name": "Python 3",
   "language": "python",
   "name": "python3"
  },
  "language_info": {
   "codemirror_mode": {
    "name": "ipython",
    "version": 3
   },
   "file_extension": ".py",
   "mimetype": "text/x-python",
   "name": "python",
   "nbconvert_exporter": "python",
   "pygments_lexer": "ipython3",
   "version": "3.6.5"
  }
 },
 "nbformat": 4,
 "nbformat_minor": 2
}
